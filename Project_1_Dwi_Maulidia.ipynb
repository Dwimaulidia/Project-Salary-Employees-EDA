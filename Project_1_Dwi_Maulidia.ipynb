{
  "nbformat": 4,
  "nbformat_minor": 0,
  "metadata": {
    "colab": {
      "provenance": [],
      "mount_file_id": "1QJMHE_5qN9-Z-Z3iWAinp0c4flh8qHqN",
      "authorship_tag": "ABX9TyOix4qFoJd1upd4IOff5MFu"
    },
    "kernelspec": {
      "name": "python3",
      "display_name": "Python 3"
    },
    "language_info": {
      "name": "python"
    }
  },
  "cells": [
    {
      "cell_type": "code",
      "source": [
        "# Import Necessary Libraries\n",
        "import pandas as pd\n",
        "import numpy as np\n",
        "\n",
        "# Import Visualization Libraries\n",
        "import matplotlib.pyplot as plt\n",
        "import seaborn as sns\n",
        "import plotly.express as px"
      ],
      "metadata": {
        "id": "rz-EmW35VEN8"
      },
      "execution_count": null,
      "outputs": []
    },
    {
      "cell_type": "markdown",
      "source": [
        "# Domain Knowlegde"
      ],
      "metadata": {
        "id": "Gwj4WP-jXJqO"
      }
    },
    {
      "cell_type": "markdown",
      "source": [
        "1. **work_year [categorical]**: The year the salary was paid.\n",
        "2. **experience_level [categorical]**: The experience level in the job during the year.\n",
        "3. **employement_type [categorical]**: The type of employment for the role.\n",
        "4. **job_title [categorical]**: The role worked in during the year.\n",
        "5. **salary [numerical]**: The total gross salary amount paid.\n",
        "6. **salary_currency [categorical]**: The currency of the salary paid as an ISO 4217 currency code.\n",
        "7. **salaryinud [numerical]**: The salary in USD.\n",
        "8. **employee_residence [categorical]**: Employee's primary country of residence in during the work year as an ISO 3166 country code.\n",
        "9. **remote_ratio [ratio]**: The overall amount of work done remotely.\n",
        "10. **company_location [categorical]**: The country of the employee's main office or contracting branch.\n",
        "11. **company_size [categorical]**: The median number of people that worked for the company during the year as an ISO 3166 country code.\n"
      ],
      "metadata": {
        "id": "PcIL7zwIXhRc"
      }
    },
    {
      "cell_type": "code",
      "source": [
        "data = pd.read_csv('/content/drive/MyDrive/Dataset/ds_salaries.csv')"
      ],
      "metadata": {
        "id": "QNWcpvfsqkyJ"
      },
      "execution_count": null,
      "outputs": []
    },
    {
      "cell_type": "code",
      "source": [
        "data.head()"
      ],
      "metadata": {
        "colab": {
          "base_uri": "https://localhost:8080/",
          "height": 374
        },
        "id": "n4MJW6CXXMMs",
        "outputId": "af4c7dae-0a52-4ad7-be5c-c2f587ff396a"
      },
      "execution_count": null,
      "outputs": [
        {
          "output_type": "execute_result",
          "data": {
            "text/plain": [
              "   work_year experience_level employment_type                 job_title  \\\n",
              "0       2023               SE              FT  Principal Data Scientist   \n",
              "1       2023               MI              CT               ML Engineer   \n",
              "2       2023               MI              CT               ML Engineer   \n",
              "3       2023               SE              FT            Data Scientist   \n",
              "4       2023               SE              FT            Data Scientist   \n",
              "\n",
              "   salary salary_currency  salary_in_usd employee_residence  remote_ratio  \\\n",
              "0   80000             EUR          85847                 ES           100   \n",
              "1   30000             USD          30000                 US           100   \n",
              "2   25500             USD          25500                 US           100   \n",
              "3  175000             USD         175000                 CA           100   \n",
              "4  120000             USD         120000                 CA           100   \n",
              "\n",
              "  company_location company_size  \n",
              "0               ES            L  \n",
              "1               US            S  \n",
              "2               US            S  \n",
              "3               CA            M  \n",
              "4               CA            M  "
            ],
            "text/html": [
              "\n",
              "\n",
              "  <div id=\"df-f68e9e99-ced2-4a57-93da-efb0f57382d6\">\n",
              "    <div class=\"colab-df-container\">\n",
              "      <div>\n",
              "<style scoped>\n",
              "    .dataframe tbody tr th:only-of-type {\n",
              "        vertical-align: middle;\n",
              "    }\n",
              "\n",
              "    .dataframe tbody tr th {\n",
              "        vertical-align: top;\n",
              "    }\n",
              "\n",
              "    .dataframe thead th {\n",
              "        text-align: right;\n",
              "    }\n",
              "</style>\n",
              "<table border=\"1\" class=\"dataframe\">\n",
              "  <thead>\n",
              "    <tr style=\"text-align: right;\">\n",
              "      <th></th>\n",
              "      <th>work_year</th>\n",
              "      <th>experience_level</th>\n",
              "      <th>employment_type</th>\n",
              "      <th>job_title</th>\n",
              "      <th>salary</th>\n",
              "      <th>salary_currency</th>\n",
              "      <th>salary_in_usd</th>\n",
              "      <th>employee_residence</th>\n",
              "      <th>remote_ratio</th>\n",
              "      <th>company_location</th>\n",
              "      <th>company_size</th>\n",
              "    </tr>\n",
              "  </thead>\n",
              "  <tbody>\n",
              "    <tr>\n",
              "      <th>0</th>\n",
              "      <td>2023</td>\n",
              "      <td>SE</td>\n",
              "      <td>FT</td>\n",
              "      <td>Principal Data Scientist</td>\n",
              "      <td>80000</td>\n",
              "      <td>EUR</td>\n",
              "      <td>85847</td>\n",
              "      <td>ES</td>\n",
              "      <td>100</td>\n",
              "      <td>ES</td>\n",
              "      <td>L</td>\n",
              "    </tr>\n",
              "    <tr>\n",
              "      <th>1</th>\n",
              "      <td>2023</td>\n",
              "      <td>MI</td>\n",
              "      <td>CT</td>\n",
              "      <td>ML Engineer</td>\n",
              "      <td>30000</td>\n",
              "      <td>USD</td>\n",
              "      <td>30000</td>\n",
              "      <td>US</td>\n",
              "      <td>100</td>\n",
              "      <td>US</td>\n",
              "      <td>S</td>\n",
              "    </tr>\n",
              "    <tr>\n",
              "      <th>2</th>\n",
              "      <td>2023</td>\n",
              "      <td>MI</td>\n",
              "      <td>CT</td>\n",
              "      <td>ML Engineer</td>\n",
              "      <td>25500</td>\n",
              "      <td>USD</td>\n",
              "      <td>25500</td>\n",
              "      <td>US</td>\n",
              "      <td>100</td>\n",
              "      <td>US</td>\n",
              "      <td>S</td>\n",
              "    </tr>\n",
              "    <tr>\n",
              "      <th>3</th>\n",
              "      <td>2023</td>\n",
              "      <td>SE</td>\n",
              "      <td>FT</td>\n",
              "      <td>Data Scientist</td>\n",
              "      <td>175000</td>\n",
              "      <td>USD</td>\n",
              "      <td>175000</td>\n",
              "      <td>CA</td>\n",
              "      <td>100</td>\n",
              "      <td>CA</td>\n",
              "      <td>M</td>\n",
              "    </tr>\n",
              "    <tr>\n",
              "      <th>4</th>\n",
              "      <td>2023</td>\n",
              "      <td>SE</td>\n",
              "      <td>FT</td>\n",
              "      <td>Data Scientist</td>\n",
              "      <td>120000</td>\n",
              "      <td>USD</td>\n",
              "      <td>120000</td>\n",
              "      <td>CA</td>\n",
              "      <td>100</td>\n",
              "      <td>CA</td>\n",
              "      <td>M</td>\n",
              "    </tr>\n",
              "  </tbody>\n",
              "</table>\n",
              "</div>\n",
              "      <button class=\"colab-df-convert\" onclick=\"convertToInteractive('df-f68e9e99-ced2-4a57-93da-efb0f57382d6')\"\n",
              "              title=\"Convert this dataframe to an interactive table.\"\n",
              "              style=\"display:none;\">\n",
              "\n",
              "  <svg xmlns=\"http://www.w3.org/2000/svg\" height=\"24px\"viewBox=\"0 0 24 24\"\n",
              "       width=\"24px\">\n",
              "    <path d=\"M0 0h24v24H0V0z\" fill=\"none\"/>\n",
              "    <path d=\"M18.56 5.44l.94 2.06.94-2.06 2.06-.94-2.06-.94-.94-2.06-.94 2.06-2.06.94zm-11 1L8.5 8.5l.94-2.06 2.06-.94-2.06-.94L8.5 2.5l-.94 2.06-2.06.94zm10 10l.94 2.06.94-2.06 2.06-.94-2.06-.94-.94-2.06-.94 2.06-2.06.94z\"/><path d=\"M17.41 7.96l-1.37-1.37c-.4-.4-.92-.59-1.43-.59-.52 0-1.04.2-1.43.59L10.3 9.45l-7.72 7.72c-.78.78-.78 2.05 0 2.83L4 21.41c.39.39.9.59 1.41.59.51 0 1.02-.2 1.41-.59l7.78-7.78 2.81-2.81c.8-.78.8-2.07 0-2.86zM5.41 20L4 18.59l7.72-7.72 1.47 1.35L5.41 20z\"/>\n",
              "  </svg>\n",
              "      </button>\n",
              "\n",
              "\n",
              "\n",
              "    <div id=\"df-dcaa2a6e-b495-4c7d-bbbf-a7f247443495\">\n",
              "      <button class=\"colab-df-quickchart\" onclick=\"quickchart('df-dcaa2a6e-b495-4c7d-bbbf-a7f247443495')\"\n",
              "              title=\"Suggest charts.\"\n",
              "              style=\"display:none;\">\n",
              "\n",
              "<svg xmlns=\"http://www.w3.org/2000/svg\" height=\"24px\"viewBox=\"0 0 24 24\"\n",
              "     width=\"24px\">\n",
              "    <g>\n",
              "        <path d=\"M19 3H5c-1.1 0-2 .9-2 2v14c0 1.1.9 2 2 2h14c1.1 0 2-.9 2-2V5c0-1.1-.9-2-2-2zM9 17H7v-7h2v7zm4 0h-2V7h2v10zm4 0h-2v-4h2v4z\"/>\n",
              "    </g>\n",
              "</svg>\n",
              "      </button>\n",
              "    </div>\n",
              "\n",
              "<style>\n",
              "  .colab-df-quickchart {\n",
              "    background-color: #E8F0FE;\n",
              "    border: none;\n",
              "    border-radius: 50%;\n",
              "    cursor: pointer;\n",
              "    display: none;\n",
              "    fill: #1967D2;\n",
              "    height: 32px;\n",
              "    padding: 0 0 0 0;\n",
              "    width: 32px;\n",
              "  }\n",
              "\n",
              "  .colab-df-quickchart:hover {\n",
              "    background-color: #E2EBFA;\n",
              "    box-shadow: 0px 1px 2px rgba(60, 64, 67, 0.3), 0px 1px 3px 1px rgba(60, 64, 67, 0.15);\n",
              "    fill: #174EA6;\n",
              "  }\n",
              "\n",
              "  [theme=dark] .colab-df-quickchart {\n",
              "    background-color: #3B4455;\n",
              "    fill: #D2E3FC;\n",
              "  }\n",
              "\n",
              "  [theme=dark] .colab-df-quickchart:hover {\n",
              "    background-color: #434B5C;\n",
              "    box-shadow: 0px 1px 3px 1px rgba(0, 0, 0, 0.15);\n",
              "    filter: drop-shadow(0px 1px 2px rgba(0, 0, 0, 0.3));\n",
              "    fill: #FFFFFF;\n",
              "  }\n",
              "</style>\n",
              "\n",
              "    <script>\n",
              "      async function quickchart(key) {\n",
              "        const containerElement = document.querySelector('#' + key);\n",
              "        const charts = await google.colab.kernel.invokeFunction(\n",
              "            'suggestCharts', [key], {});\n",
              "      }\n",
              "    </script>\n",
              "\n",
              "      <script>\n",
              "\n",
              "function displayQuickchartButton(domScope) {\n",
              "  let quickchartButtonEl =\n",
              "    domScope.querySelector('#df-dcaa2a6e-b495-4c7d-bbbf-a7f247443495 button.colab-df-quickchart');\n",
              "  quickchartButtonEl.style.display =\n",
              "    google.colab.kernel.accessAllowed ? 'block' : 'none';\n",
              "}\n",
              "\n",
              "        displayQuickchartButton(document);\n",
              "      </script>\n",
              "      <style>\n",
              "    .colab-df-container {\n",
              "      display:flex;\n",
              "      flex-wrap:wrap;\n",
              "      gap: 12px;\n",
              "    }\n",
              "\n",
              "    .colab-df-convert {\n",
              "      background-color: #E8F0FE;\n",
              "      border: none;\n",
              "      border-radius: 50%;\n",
              "      cursor: pointer;\n",
              "      display: none;\n",
              "      fill: #1967D2;\n",
              "      height: 32px;\n",
              "      padding: 0 0 0 0;\n",
              "      width: 32px;\n",
              "    }\n",
              "\n",
              "    .colab-df-convert:hover {\n",
              "      background-color: #E2EBFA;\n",
              "      box-shadow: 0px 1px 2px rgba(60, 64, 67, 0.3), 0px 1px 3px 1px rgba(60, 64, 67, 0.15);\n",
              "      fill: #174EA6;\n",
              "    }\n",
              "\n",
              "    [theme=dark] .colab-df-convert {\n",
              "      background-color: #3B4455;\n",
              "      fill: #D2E3FC;\n",
              "    }\n",
              "\n",
              "    [theme=dark] .colab-df-convert:hover {\n",
              "      background-color: #434B5C;\n",
              "      box-shadow: 0px 1px 3px 1px rgba(0, 0, 0, 0.15);\n",
              "      filter: drop-shadow(0px 1px 2px rgba(0, 0, 0, 0.3));\n",
              "      fill: #FFFFFF;\n",
              "    }\n",
              "  </style>\n",
              "\n",
              "      <script>\n",
              "        const buttonEl =\n",
              "          document.querySelector('#df-f68e9e99-ced2-4a57-93da-efb0f57382d6 button.colab-df-convert');\n",
              "        buttonEl.style.display =\n",
              "          google.colab.kernel.accessAllowed ? 'block' : 'none';\n",
              "\n",
              "        async function convertToInteractive(key) {\n",
              "          const element = document.querySelector('#df-f68e9e99-ced2-4a57-93da-efb0f57382d6');\n",
              "          const dataTable =\n",
              "            await google.colab.kernel.invokeFunction('convertToInteractive',\n",
              "                                                     [key], {});\n",
              "          if (!dataTable) return;\n",
              "\n",
              "          const docLinkHtml = 'Like what you see? Visit the ' +\n",
              "            '<a target=\"_blank\" href=https://colab.research.google.com/notebooks/data_table.ipynb>data table notebook</a>'\n",
              "            + ' to learn more about interactive tables.';\n",
              "          element.innerHTML = '';\n",
              "          dataTable['output_type'] = 'display_data';\n",
              "          await google.colab.output.renderOutput(dataTable, element);\n",
              "          const docLink = document.createElement('div');\n",
              "          docLink.innerHTML = docLinkHtml;\n",
              "          element.appendChild(docLink);\n",
              "        }\n",
              "      </script>\n",
              "    </div>\n",
              "  </div>\n"
            ]
          },
          "metadata": {},
          "execution_count": 4
        }
      ]
    },
    {
      "cell_type": "markdown",
      "source": [
        "# 1. Exploratory Data Analysis (EDA)"
      ],
      "metadata": {
        "id": "-VtnvzBZsg73"
      }
    },
    {
      "cell_type": "markdown",
      "source": [
        "# 1.1 Check Null Values"
      ],
      "metadata": {
        "id": "1KAvMsvBsuwQ"
      }
    },
    {
      "cell_type": "code",
      "source": [
        "data.isna().sum()"
      ],
      "metadata": {
        "colab": {
          "base_uri": "https://localhost:8080/"
        },
        "id": "anzlSEnps3iw",
        "outputId": "0d9c6739-ba18-45c8-efd8-77458800e9d5"
      },
      "execution_count": null,
      "outputs": [
        {
          "output_type": "execute_result",
          "data": {
            "text/plain": [
              "work_year             0\n",
              "experience_level      0\n",
              "employment_type       0\n",
              "job_title             0\n",
              "salary                0\n",
              "salary_currency       0\n",
              "salary_in_usd         0\n",
              "employee_residence    0\n",
              "remote_ratio          0\n",
              "company_location      0\n",
              "company_size          0\n",
              "dtype: int64"
            ]
          },
          "metadata": {},
          "execution_count": 5
        }
      ]
    },
    {
      "cell_type": "markdown",
      "source": [
        "# 1.2 Check Duplicate Data"
      ],
      "metadata": {
        "id": "QB06eIidtYo9"
      }
    },
    {
      "cell_type": "code",
      "source": [
        "duplicate_rows_data= data[data.duplicated()]\n",
        "print(\"number of duplicate rows\", duplicate_rows_data.shape)"
      ],
      "metadata": {
        "colab": {
          "base_uri": "https://localhost:8080/"
        },
        "id": "rStFDIYntfCH",
        "outputId": "e42e4e9d-d90f-4146-8231-2c18133775cd"
      },
      "execution_count": null,
      "outputs": [
        {
          "output_type": "stream",
          "name": "stdout",
          "text": [
            "number of duplicate rows (1171, 11)\n"
          ]
        }
      ]
    },
    {
      "cell_type": "code",
      "source": [
        "# drop duplicated data\n",
        "data = data.drop_duplicates()"
      ],
      "metadata": {
        "id": "R3H1vL-vuN13"
      },
      "execution_count": null,
      "outputs": []
    },
    {
      "cell_type": "code",
      "source": [
        "data.shape"
      ],
      "metadata": {
        "colab": {
          "base_uri": "https://localhost:8080/"
        },
        "id": "o-kBQS08vXRE",
        "outputId": "4a1e158f-29df-4767-e78f-2eeffa19d806"
      },
      "execution_count": null,
      "outputs": [
        {
          "output_type": "execute_result",
          "data": {
            "text/plain": [
              "(2584, 11)"
            ]
          },
          "metadata": {},
          "execution_count": 8
        }
      ]
    },
    {
      "cell_type": "markdown",
      "source": [
        "# 1.3 Check Unique Value in Each Column"
      ],
      "metadata": {
        "id": "vtuTmqK6vPZ3"
      }
    },
    {
      "cell_type": "code",
      "source": [
        "data.dtypes"
      ],
      "metadata": {
        "colab": {
          "base_uri": "https://localhost:8080/"
        },
        "id": "Tf5eRsbDvV2D",
        "outputId": "37ce992e-a6ff-45d2-c2e3-ac8b099cfdaa"
      },
      "execution_count": null,
      "outputs": [
        {
          "output_type": "execute_result",
          "data": {
            "text/plain": [
              "work_year              int64\n",
              "experience_level      object\n",
              "employment_type       object\n",
              "job_title             object\n",
              "salary                 int64\n",
              "salary_currency       object\n",
              "salary_in_usd          int64\n",
              "employee_residence    object\n",
              "remote_ratio           int64\n",
              "company_location      object\n",
              "company_size          object\n",
              "dtype: object"
            ]
          },
          "metadata": {},
          "execution_count": 9
        }
      ]
    },
    {
      "cell_type": "code",
      "source": [
        "data.describe()"
      ],
      "metadata": {
        "colab": {
          "base_uri": "https://localhost:8080/",
          "height": 300
        },
        "id": "HACbE007vkIp",
        "outputId": "f3ba9324-8947-4af9-b6b7-a00e4801d9af"
      },
      "execution_count": null,
      "outputs": [
        {
          "output_type": "execute_result",
          "data": {
            "text/plain": [
              "         work_year        salary  salary_in_usd  remote_ratio\n",
              "count  2584.000000  2.584000e+03    2584.000000   2584.000000\n",
              "mean   2022.301084  2.103653e+05  133409.280186     50.483746\n",
              "std       0.749179  8.080375e+05   67136.837329     48.163707\n",
              "min    2020.000000  6.000000e+03    5132.000000      0.000000\n",
              "25%    2022.000000  9.000000e+04   84975.000000      0.000000\n",
              "50%    2022.000000  1.346300e+05  130000.000000     50.000000\n",
              "75%    2023.000000  1.825625e+05  175000.000000    100.000000\n",
              "max    2023.000000  3.040000e+07  450000.000000    100.000000"
            ],
            "text/html": [
              "\n",
              "\n",
              "  <div id=\"df-e86b6523-b7cb-42e6-8c99-fe52535d033b\">\n",
              "    <div class=\"colab-df-container\">\n",
              "      <div>\n",
              "<style scoped>\n",
              "    .dataframe tbody tr th:only-of-type {\n",
              "        vertical-align: middle;\n",
              "    }\n",
              "\n",
              "    .dataframe tbody tr th {\n",
              "        vertical-align: top;\n",
              "    }\n",
              "\n",
              "    .dataframe thead th {\n",
              "        text-align: right;\n",
              "    }\n",
              "</style>\n",
              "<table border=\"1\" class=\"dataframe\">\n",
              "  <thead>\n",
              "    <tr style=\"text-align: right;\">\n",
              "      <th></th>\n",
              "      <th>work_year</th>\n",
              "      <th>salary</th>\n",
              "      <th>salary_in_usd</th>\n",
              "      <th>remote_ratio</th>\n",
              "    </tr>\n",
              "  </thead>\n",
              "  <tbody>\n",
              "    <tr>\n",
              "      <th>count</th>\n",
              "      <td>2584.000000</td>\n",
              "      <td>2.584000e+03</td>\n",
              "      <td>2584.000000</td>\n",
              "      <td>2584.000000</td>\n",
              "    </tr>\n",
              "    <tr>\n",
              "      <th>mean</th>\n",
              "      <td>2022.301084</td>\n",
              "      <td>2.103653e+05</td>\n",
              "      <td>133409.280186</td>\n",
              "      <td>50.483746</td>\n",
              "    </tr>\n",
              "    <tr>\n",
              "      <th>std</th>\n",
              "      <td>0.749179</td>\n",
              "      <td>8.080375e+05</td>\n",
              "      <td>67136.837329</td>\n",
              "      <td>48.163707</td>\n",
              "    </tr>\n",
              "    <tr>\n",
              "      <th>min</th>\n",
              "      <td>2020.000000</td>\n",
              "      <td>6.000000e+03</td>\n",
              "      <td>5132.000000</td>\n",
              "      <td>0.000000</td>\n",
              "    </tr>\n",
              "    <tr>\n",
              "      <th>25%</th>\n",
              "      <td>2022.000000</td>\n",
              "      <td>9.000000e+04</td>\n",
              "      <td>84975.000000</td>\n",
              "      <td>0.000000</td>\n",
              "    </tr>\n",
              "    <tr>\n",
              "      <th>50%</th>\n",
              "      <td>2022.000000</td>\n",
              "      <td>1.346300e+05</td>\n",
              "      <td>130000.000000</td>\n",
              "      <td>50.000000</td>\n",
              "    </tr>\n",
              "    <tr>\n",
              "      <th>75%</th>\n",
              "      <td>2023.000000</td>\n",
              "      <td>1.825625e+05</td>\n",
              "      <td>175000.000000</td>\n",
              "      <td>100.000000</td>\n",
              "    </tr>\n",
              "    <tr>\n",
              "      <th>max</th>\n",
              "      <td>2023.000000</td>\n",
              "      <td>3.040000e+07</td>\n",
              "      <td>450000.000000</td>\n",
              "      <td>100.000000</td>\n",
              "    </tr>\n",
              "  </tbody>\n",
              "</table>\n",
              "</div>\n",
              "      <button class=\"colab-df-convert\" onclick=\"convertToInteractive('df-e86b6523-b7cb-42e6-8c99-fe52535d033b')\"\n",
              "              title=\"Convert this dataframe to an interactive table.\"\n",
              "              style=\"display:none;\">\n",
              "\n",
              "  <svg xmlns=\"http://www.w3.org/2000/svg\" height=\"24px\"viewBox=\"0 0 24 24\"\n",
              "       width=\"24px\">\n",
              "    <path d=\"M0 0h24v24H0V0z\" fill=\"none\"/>\n",
              "    <path d=\"M18.56 5.44l.94 2.06.94-2.06 2.06-.94-2.06-.94-.94-2.06-.94 2.06-2.06.94zm-11 1L8.5 8.5l.94-2.06 2.06-.94-2.06-.94L8.5 2.5l-.94 2.06-2.06.94zm10 10l.94 2.06.94-2.06 2.06-.94-2.06-.94-.94-2.06-.94 2.06-2.06.94z\"/><path d=\"M17.41 7.96l-1.37-1.37c-.4-.4-.92-.59-1.43-.59-.52 0-1.04.2-1.43.59L10.3 9.45l-7.72 7.72c-.78.78-.78 2.05 0 2.83L4 21.41c.39.39.9.59 1.41.59.51 0 1.02-.2 1.41-.59l7.78-7.78 2.81-2.81c.8-.78.8-2.07 0-2.86zM5.41 20L4 18.59l7.72-7.72 1.47 1.35L5.41 20z\"/>\n",
              "  </svg>\n",
              "      </button>\n",
              "\n",
              "\n",
              "\n",
              "    <div id=\"df-6e27f35a-ea83-464f-8ca2-f7338acc9457\">\n",
              "      <button class=\"colab-df-quickchart\" onclick=\"quickchart('df-6e27f35a-ea83-464f-8ca2-f7338acc9457')\"\n",
              "              title=\"Suggest charts.\"\n",
              "              style=\"display:none;\">\n",
              "\n",
              "<svg xmlns=\"http://www.w3.org/2000/svg\" height=\"24px\"viewBox=\"0 0 24 24\"\n",
              "     width=\"24px\">\n",
              "    <g>\n",
              "        <path d=\"M19 3H5c-1.1 0-2 .9-2 2v14c0 1.1.9 2 2 2h14c1.1 0 2-.9 2-2V5c0-1.1-.9-2-2-2zM9 17H7v-7h2v7zm4 0h-2V7h2v10zm4 0h-2v-4h2v4z\"/>\n",
              "    </g>\n",
              "</svg>\n",
              "      </button>\n",
              "    </div>\n",
              "\n",
              "<style>\n",
              "  .colab-df-quickchart {\n",
              "    background-color: #E8F0FE;\n",
              "    border: none;\n",
              "    border-radius: 50%;\n",
              "    cursor: pointer;\n",
              "    display: none;\n",
              "    fill: #1967D2;\n",
              "    height: 32px;\n",
              "    padding: 0 0 0 0;\n",
              "    width: 32px;\n",
              "  }\n",
              "\n",
              "  .colab-df-quickchart:hover {\n",
              "    background-color: #E2EBFA;\n",
              "    box-shadow: 0px 1px 2px rgba(60, 64, 67, 0.3), 0px 1px 3px 1px rgba(60, 64, 67, 0.15);\n",
              "    fill: #174EA6;\n",
              "  }\n",
              "\n",
              "  [theme=dark] .colab-df-quickchart {\n",
              "    background-color: #3B4455;\n",
              "    fill: #D2E3FC;\n",
              "  }\n",
              "\n",
              "  [theme=dark] .colab-df-quickchart:hover {\n",
              "    background-color: #434B5C;\n",
              "    box-shadow: 0px 1px 3px 1px rgba(0, 0, 0, 0.15);\n",
              "    filter: drop-shadow(0px 1px 2px rgba(0, 0, 0, 0.3));\n",
              "    fill: #FFFFFF;\n",
              "  }\n",
              "</style>\n",
              "\n",
              "    <script>\n",
              "      async function quickchart(key) {\n",
              "        const containerElement = document.querySelector('#' + key);\n",
              "        const charts = await google.colab.kernel.invokeFunction(\n",
              "            'suggestCharts', [key], {});\n",
              "      }\n",
              "    </script>\n",
              "\n",
              "      <script>\n",
              "\n",
              "function displayQuickchartButton(domScope) {\n",
              "  let quickchartButtonEl =\n",
              "    domScope.querySelector('#df-6e27f35a-ea83-464f-8ca2-f7338acc9457 button.colab-df-quickchart');\n",
              "  quickchartButtonEl.style.display =\n",
              "    google.colab.kernel.accessAllowed ? 'block' : 'none';\n",
              "}\n",
              "\n",
              "        displayQuickchartButton(document);\n",
              "      </script>\n",
              "      <style>\n",
              "    .colab-df-container {\n",
              "      display:flex;\n",
              "      flex-wrap:wrap;\n",
              "      gap: 12px;\n",
              "    }\n",
              "\n",
              "    .colab-df-convert {\n",
              "      background-color: #E8F0FE;\n",
              "      border: none;\n",
              "      border-radius: 50%;\n",
              "      cursor: pointer;\n",
              "      display: none;\n",
              "      fill: #1967D2;\n",
              "      height: 32px;\n",
              "      padding: 0 0 0 0;\n",
              "      width: 32px;\n",
              "    }\n",
              "\n",
              "    .colab-df-convert:hover {\n",
              "      background-color: #E2EBFA;\n",
              "      box-shadow: 0px 1px 2px rgba(60, 64, 67, 0.3), 0px 1px 3px 1px rgba(60, 64, 67, 0.15);\n",
              "      fill: #174EA6;\n",
              "    }\n",
              "\n",
              "    [theme=dark] .colab-df-convert {\n",
              "      background-color: #3B4455;\n",
              "      fill: #D2E3FC;\n",
              "    }\n",
              "\n",
              "    [theme=dark] .colab-df-convert:hover {\n",
              "      background-color: #434B5C;\n",
              "      box-shadow: 0px 1px 3px 1px rgba(0, 0, 0, 0.15);\n",
              "      filter: drop-shadow(0px 1px 2px rgba(0, 0, 0, 0.3));\n",
              "      fill: #FFFFFF;\n",
              "    }\n",
              "  </style>\n",
              "\n",
              "      <script>\n",
              "        const buttonEl =\n",
              "          document.querySelector('#df-e86b6523-b7cb-42e6-8c99-fe52535d033b button.colab-df-convert');\n",
              "        buttonEl.style.display =\n",
              "          google.colab.kernel.accessAllowed ? 'block' : 'none';\n",
              "\n",
              "        async function convertToInteractive(key) {\n",
              "          const element = document.querySelector('#df-e86b6523-b7cb-42e6-8c99-fe52535d033b');\n",
              "          const dataTable =\n",
              "            await google.colab.kernel.invokeFunction('convertToInteractive',\n",
              "                                                     [key], {});\n",
              "          if (!dataTable) return;\n",
              "\n",
              "          const docLinkHtml = 'Like what you see? Visit the ' +\n",
              "            '<a target=\"_blank\" href=https://colab.research.google.com/notebooks/data_table.ipynb>data table notebook</a>'\n",
              "            + ' to learn more about interactive tables.';\n",
              "          element.innerHTML = '';\n",
              "          dataTable['output_type'] = 'display_data';\n",
              "          await google.colab.output.renderOutput(dataTable, element);\n",
              "          const docLink = document.createElement('div');\n",
              "          docLink.innerHTML = docLinkHtml;\n",
              "          element.appendChild(docLink);\n",
              "        }\n",
              "      </script>\n",
              "    </div>\n",
              "  </div>\n"
            ]
          },
          "metadata": {},
          "execution_count": 10
        }
      ]
    },
    {
      "cell_type": "code",
      "source": [
        "data.columns"
      ],
      "metadata": {
        "colab": {
          "base_uri": "https://localhost:8080/"
        },
        "id": "nuIKuFqIxGRS",
        "outputId": "682e4945-2fd5-4023-9169-9f27cbb555b4"
      },
      "execution_count": null,
      "outputs": [
        {
          "output_type": "execute_result",
          "data": {
            "text/plain": [
              "Index(['work_year', 'experience_level', 'employment_type', 'job_title',\n",
              "       'salary', 'salary_currency', 'salary_in_usd', 'employee_residence',\n",
              "       'remote_ratio', 'company_location', 'company_size'],\n",
              "      dtype='object')"
            ]
          },
          "metadata": {},
          "execution_count": 11
        }
      ]
    },
    {
      "cell_type": "code",
      "source": [
        "for column in data.columns:\n",
        "  if data[column].dtypes == object:\n",
        "\n",
        "    num_distinct_values = data[column].nunique()\n",
        "    distinct_values = data[column].unique()\n",
        "\n",
        "    print(f\"{column}: {num_distinct_values} -> {distinct_values}\\n\")"
      ],
      "metadata": {
        "colab": {
          "base_uri": "https://localhost:8080/"
        },
        "id": "G1twdPAIv7Kd",
        "outputId": "157b67b3-0ac1-4ca9-f249-03a30bdd915d"
      },
      "execution_count": null,
      "outputs": [
        {
          "output_type": "stream",
          "name": "stdout",
          "text": [
            "experience_level: 4 -> ['SE' 'MI' 'EN' 'EX']\n",
            "\n",
            "employment_type: 4 -> ['FT' 'CT' 'FL' 'PT']\n",
            "\n",
            "job_title: 93 -> ['Principal Data Scientist' 'ML Engineer' 'Data Scientist'\n",
            " 'Applied Scientist' 'Data Analyst' 'Data Modeler' 'Research Engineer'\n",
            " 'Analytics Engineer' 'Business Intelligence Engineer'\n",
            " 'Machine Learning Engineer' 'Data Strategist' 'Data Engineer'\n",
            " 'Computer Vision Engineer' 'Data Quality Analyst'\n",
            " 'Compliance Data Analyst' 'Data Architect'\n",
            " 'Applied Machine Learning Engineer' 'AI Developer' 'Research Scientist'\n",
            " 'Data Analytics Manager' 'Business Data Analyst' 'Applied Data Scientist'\n",
            " 'Staff Data Analyst' 'ETL Engineer' 'Data DevOps Engineer' 'Head of Data'\n",
            " 'Data Science Manager' 'Data Manager' 'Machine Learning Researcher'\n",
            " 'Big Data Engineer' 'Data Specialist' 'Lead Data Analyst'\n",
            " 'BI Data Engineer' 'Director of Data Science'\n",
            " 'Machine Learning Scientist' 'MLOps Engineer' 'AI Scientist'\n",
            " 'Autonomous Vehicle Technician' 'Applied Machine Learning Scientist'\n",
            " 'Lead Data Scientist' 'Cloud Database Engineer' 'Financial Data Analyst'\n",
            " 'Data Infrastructure Engineer' 'Software Data Engineer' 'AI Programmer'\n",
            " 'Data Operations Engineer' 'BI Developer' 'Data Science Lead'\n",
            " 'Deep Learning Researcher' 'BI Analyst' 'Data Science Consultant'\n",
            " 'Data Analytics Specialist' 'Machine Learning Infrastructure Engineer'\n",
            " 'BI Data Analyst' 'Head of Data Science' 'Insight Analyst'\n",
            " 'Deep Learning Engineer' 'Machine Learning Software Engineer'\n",
            " 'Big Data Architect' 'Product Data Analyst'\n",
            " 'Computer Vision Software Engineer' 'Azure Data Engineer'\n",
            " 'Marketing Data Engineer' 'Data Analytics Lead' 'Data Lead'\n",
            " 'Data Science Engineer' 'Machine Learning Research Engineer'\n",
            " 'NLP Engineer' 'Manager Data Management' 'Machine Learning Developer'\n",
            " '3D Computer Vision Researcher' 'Principal Machine Learning Engineer'\n",
            " 'Data Analytics Engineer' 'Data Analytics Consultant'\n",
            " 'Data Management Specialist' 'Data Science Tech Lead'\n",
            " 'Data Scientist Lead' 'Cloud Data Engineer' 'Data Operations Analyst'\n",
            " 'Marketing Data Analyst' 'Power BI Developer' 'Product Data Scientist'\n",
            " 'Principal Data Architect' 'Machine Learning Manager'\n",
            " 'Lead Machine Learning Engineer' 'ETL Developer' 'Cloud Data Architect'\n",
            " 'Lead Data Engineer' 'Head of Machine Learning' 'Principal Data Analyst'\n",
            " 'Principal Data Engineer' 'Staff Data Scientist' 'Finance Data Analyst']\n",
            "\n",
            "salary_currency: 20 -> ['EUR' 'USD' 'INR' 'HKD' 'CHF' 'GBP' 'AUD' 'SGD' 'CAD' 'ILS' 'BRL' 'THB'\n",
            " 'PLN' 'HUF' 'CZK' 'DKK' 'JPY' 'MXN' 'TRY' 'CLP']\n",
            "\n",
            "employee_residence: 78 -> ['ES' 'US' 'CA' 'DE' 'GB' 'NG' 'IN' 'HK' 'PT' 'NL' 'CH' 'CF' 'FR' 'AU'\n",
            " 'FI' 'UA' 'IE' 'IL' 'GH' 'AT' 'CO' 'SG' 'SE' 'SI' 'MX' 'UZ' 'BR' 'TH'\n",
            " 'HR' 'PL' 'KW' 'VN' 'CY' 'AR' 'AM' 'BA' 'KE' 'GR' 'MK' 'LV' 'RO' 'PK'\n",
            " 'IT' 'MA' 'LT' 'BE' 'AS' 'IR' 'HU' 'SK' 'CN' 'CZ' 'CR' 'TR' 'CL' 'PR'\n",
            " 'DK' 'BO' 'PH' 'DO' 'EG' 'ID' 'AE' 'MY' 'JP' 'EE' 'HN' 'TN' 'RU' 'DZ'\n",
            " 'IQ' 'BG' 'JE' 'RS' 'NZ' 'MD' 'LU' 'MT']\n",
            "\n",
            "company_location: 72 -> ['ES' 'US' 'CA' 'DE' 'GB' 'NG' 'IN' 'HK' 'NL' 'CH' 'CF' 'FR' 'FI' 'UA'\n",
            " 'IE' 'IL' 'GH' 'CO' 'SG' 'AU' 'SE' 'SI' 'MX' 'BR' 'PT' 'RU' 'TH' 'HR'\n",
            " 'VN' 'EE' 'AM' 'BA' 'KE' 'GR' 'MK' 'LV' 'RO' 'PK' 'IT' 'MA' 'PL' 'AL'\n",
            " 'AR' 'LT' 'AS' 'CR' 'IR' 'BS' 'HU' 'AT' 'SK' 'CZ' 'TR' 'PR' 'DK' 'BO'\n",
            " 'PH' 'BE' 'ID' 'EG' 'AE' 'LU' 'MY' 'HN' 'JP' 'DZ' 'IQ' 'CN' 'NZ' 'CL'\n",
            " 'MD' 'MT']\n",
            "\n",
            "company_size: 3 -> ['L' 'S' 'M']\n",
            "\n"
          ]
        }
      ]
    },
    {
      "cell_type": "markdown",
      "source": [
        "# 1.4 Rename the Value for better understanding"
      ],
      "metadata": {
        "id": "LayzSOs8ymsU"
      }
    },
    {
      "cell_type": "code",
      "source": [
        "data['experience_level'] = data['experience_level'].replace({\n",
        "    'SE': 'Senior',\n",
        "    'EN': 'Entry Level',\n",
        "    'EX': 'Executive level',\n",
        "    'MI': 'Mid/Intermediate level'\n",
        "})\n",
        "\n",
        "data['employee_type'] = data['employment_type'].replace({\n",
        "    'FL':'Freelancer',\n",
        "    'CT':'Contractor',\n",
        "    'FT':'Full-time',\n",
        "    'PT':'Part-time'\n",
        "})\n",
        "\n",
        "data['remote_ratio'] = data['remote_ratio'].replace({\n",
        "    0:'On-Site',\n",
        "    50:'Half-Remote',\n",
        "    100:'Full-Remote'\n",
        "})"
      ],
      "metadata": {
        "id": "LttO1mzOyrw4",
        "colab": {
          "base_uri": "https://localhost:8080/"
        },
        "outputId": "d54d235b-8c3d-4a6d-903f-49be17a82d74"
      },
      "execution_count": null,
      "outputs": [
        {
          "output_type": "stream",
          "name": "stderr",
          "text": [
            "<ipython-input-13-e309ce7a499e>:1: SettingWithCopyWarning: \n",
            "A value is trying to be set on a copy of a slice from a DataFrame.\n",
            "Try using .loc[row_indexer,col_indexer] = value instead\n",
            "\n",
            "See the caveats in the documentation: https://pandas.pydata.org/pandas-docs/stable/user_guide/indexing.html#returning-a-view-versus-a-copy\n",
            "  data['experience_level'] = data['experience_level'].replace({\n",
            "<ipython-input-13-e309ce7a499e>:8: SettingWithCopyWarning: \n",
            "A value is trying to be set on a copy of a slice from a DataFrame.\n",
            "Try using .loc[row_indexer,col_indexer] = value instead\n",
            "\n",
            "See the caveats in the documentation: https://pandas.pydata.org/pandas-docs/stable/user_guide/indexing.html#returning-a-view-versus-a-copy\n",
            "  data['employee_type'] = data['employment_type'].replace({\n",
            "<ipython-input-13-e309ce7a499e>:15: SettingWithCopyWarning: \n",
            "A value is trying to be set on a copy of a slice from a DataFrame.\n",
            "Try using .loc[row_indexer,col_indexer] = value instead\n",
            "\n",
            "See the caveats in the documentation: https://pandas.pydata.org/pandas-docs/stable/user_guide/indexing.html#returning-a-view-versus-a-copy\n",
            "  data['remote_ratio'] = data['remote_ratio'].replace({\n"
          ]
        }
      ]
    },
    {
      "cell_type": "markdown",
      "source": [
        "# 1.5 Group the Job Title"
      ],
      "metadata": {
        "id": "d_gbzq400syD"
      }
    },
    {
      "cell_type": "code",
      "source": [
        "print(data['job_title'].nunique())\n",
        "data['job_title'].unique()"
      ],
      "metadata": {
        "colab": {
          "base_uri": "https://localhost:8080/"
        },
        "id": "P3wbLkB30_uH",
        "outputId": "d28d8445-2ac5-463d-928e-b9f80a3c18d0"
      },
      "execution_count": null,
      "outputs": [
        {
          "output_type": "stream",
          "name": "stdout",
          "text": [
            "93\n"
          ]
        },
        {
          "output_type": "execute_result",
          "data": {
            "text/plain": [
              "array(['Principal Data Scientist', 'ML Engineer', 'Data Scientist',\n",
              "       'Applied Scientist', 'Data Analyst', 'Data Modeler',\n",
              "       'Research Engineer', 'Analytics Engineer',\n",
              "       'Business Intelligence Engineer', 'Machine Learning Engineer',\n",
              "       'Data Strategist', 'Data Engineer', 'Computer Vision Engineer',\n",
              "       'Data Quality Analyst', 'Compliance Data Analyst',\n",
              "       'Data Architect', 'Applied Machine Learning Engineer',\n",
              "       'AI Developer', 'Research Scientist', 'Data Analytics Manager',\n",
              "       'Business Data Analyst', 'Applied Data Scientist',\n",
              "       'Staff Data Analyst', 'ETL Engineer', 'Data DevOps Engineer',\n",
              "       'Head of Data', 'Data Science Manager', 'Data Manager',\n",
              "       'Machine Learning Researcher', 'Big Data Engineer',\n",
              "       'Data Specialist', 'Lead Data Analyst', 'BI Data Engineer',\n",
              "       'Director of Data Science', 'Machine Learning Scientist',\n",
              "       'MLOps Engineer', 'AI Scientist', 'Autonomous Vehicle Technician',\n",
              "       'Applied Machine Learning Scientist', 'Lead Data Scientist',\n",
              "       'Cloud Database Engineer', 'Financial Data Analyst',\n",
              "       'Data Infrastructure Engineer', 'Software Data Engineer',\n",
              "       'AI Programmer', 'Data Operations Engineer', 'BI Developer',\n",
              "       'Data Science Lead', 'Deep Learning Researcher', 'BI Analyst',\n",
              "       'Data Science Consultant', 'Data Analytics Specialist',\n",
              "       'Machine Learning Infrastructure Engineer', 'BI Data Analyst',\n",
              "       'Head of Data Science', 'Insight Analyst',\n",
              "       'Deep Learning Engineer', 'Machine Learning Software Engineer',\n",
              "       'Big Data Architect', 'Product Data Analyst',\n",
              "       'Computer Vision Software Engineer', 'Azure Data Engineer',\n",
              "       'Marketing Data Engineer', 'Data Analytics Lead', 'Data Lead',\n",
              "       'Data Science Engineer', 'Machine Learning Research Engineer',\n",
              "       'NLP Engineer', 'Manager Data Management',\n",
              "       'Machine Learning Developer', '3D Computer Vision Researcher',\n",
              "       'Principal Machine Learning Engineer', 'Data Analytics Engineer',\n",
              "       'Data Analytics Consultant', 'Data Management Specialist',\n",
              "       'Data Science Tech Lead', 'Data Scientist Lead',\n",
              "       'Cloud Data Engineer', 'Data Operations Analyst',\n",
              "       'Marketing Data Analyst', 'Power BI Developer',\n",
              "       'Product Data Scientist', 'Principal Data Architect',\n",
              "       'Machine Learning Manager', 'Lead Machine Learning Engineer',\n",
              "       'ETL Developer', 'Cloud Data Architect', 'Lead Data Engineer',\n",
              "       'Head of Machine Learning', 'Principal Data Analyst',\n",
              "       'Principal Data Engineer', 'Staff Data Scientist',\n",
              "       'Finance Data Analyst'], dtype=object)"
            ]
          },
          "metadata": {},
          "execution_count": 14
        }
      ]
    },
    {
      "cell_type": "code",
      "execution_count": null,
      "metadata": {
        "id": "smf10Eptdt9e",
        "colab": {
          "base_uri": "https://localhost:8080/"
        },
        "outputId": "766ab187-704b-4c78-df6e-200252816091"
      },
      "outputs": [
        {
          "output_type": "stream",
          "name": "stderr",
          "text": [
            "<ipython-input-15-85d43c33318b>:21: SettingWithCopyWarning: \n",
            "A value is trying to be set on a copy of a slice from a DataFrame.\n",
            "Try using .loc[row_indexer,col_indexer] = value instead\n",
            "\n",
            "See the caveats in the documentation: https://pandas.pydata.org/pandas-docs/stable/user_guide/indexing.html#returning-a-view-versus-a-copy\n",
            "  data.loc[:,\"job_category\"] = data[\"job_title\"].apply(assign_broder_category)\n"
          ]
        }
      ],
      "source": [
        "def assign_broder_category(job_title):\n",
        "  data_engineering = [\"Data Engineer\", \"Data Analyst\", \"Analytics Engineer\", \"BI Data Analyst\", \"Business Data Analyst\", \"BI Developer\", \"BI Analyst\", \"Business Intelligence Engineer\", \"BI Data Engineer\", \"Power BI Developer\"]\n",
        "  data_scientist = [\"Data Scientist\", \"Applied Scientist\", \"Research Scientist\", \"3D Computer Vision Researcher\", \"Deep Learning Researcher\", \"AI/Computer Vision Engineer\"]\n",
        "  machine_learning = [\"Machine Learning Engineer\", \"ML Engineer\", \"Lead Machine Learning Engineer\", \"Principal Machine Learning Engineer\"]\n",
        "  data_architecture = [\"Data Architect\", \"Big Data Architect\", \"Cloud Data Architect\", \"Principal Data Architect\"]\n",
        "  management = [\"Data Science Manager\", \"Director of Data Science\", \"Head of Data Science\", \"Data Scientist Lead\", \"Head of Machine Learning\", \"Manager Data Management\", \"Data Analytics Manager\"]\n",
        "\n",
        "  if job_title in data_engineering:\n",
        "    return \"Data Engineering\"\n",
        "  elif job_title in data_scientist:\n",
        "    return \"Data Scientist\"\n",
        "  elif job_title in machine_learning:\n",
        "    return \"Machine Learning\"\n",
        "  elif job_title in data_architecture:\n",
        "    return \"Data Architecture\"\n",
        "  elif job_title in management:\n",
        "    return \"Management\"\n",
        "  else:\n",
        "    return \"Other\"\n",
        "\n",
        "data.loc[:,\"job_category\"] = data[\"job_title\"].apply(assign_broder_category)"
      ]
    },
    {
      "cell_type": "markdown",
      "source": [
        "# 1.6 Adjust Salary to Present Value"
      ],
      "metadata": {
        "id": "N0XUQtMD1TmA"
      }
    },
    {
      "cell_type": "markdown",
      "source": [
        "**Dealing with Inflation rate**"
      ],
      "metadata": {
        "id": "nBAWyaM01nw2"
      }
    },
    {
      "cell_type": "code",
      "source": [
        "# Inflation rates\n",
        "us_inflation_rates = {2019: 0.0181,\n",
        "                      2020: 0.0123,\n",
        "                      2021: 0.0470,\n",
        "                      2022: 0.065}\n",
        "global_inflation_rates = {2019: 0.0219,\n",
        "                          2020: 0.0192,\n",
        "                          2021: 0.0350,\n",
        "                          2022: 0.088}\n",
        "\n",
        "# Function to adjust salary\n",
        "def adjust_salary(row):\n",
        "    year = row['work_year']\n",
        "    original_salary = row['salary_in_usd']\n",
        "    currency = row['salary_currency']\n",
        "\n",
        "    if year == 2023:\n",
        "        return original_salary\n",
        "    else:\n",
        "        adjusted_salary = original_salary\n",
        "\n",
        "        for y in range(year, 2023):\n",
        "            if currency == 'USD':\n",
        "                inflation_rate = us_inflation_rates[y]\n",
        "            else:\n",
        "                inflation_rate = global_inflation_rates[y]\n",
        "\n",
        "            adjusted_salary = adjusted_salary * (1 + inflation_rate)\n",
        "\n",
        "        return adjusted_salary"
      ],
      "metadata": {
        "id": "7qyXQwbZAjtr"
      },
      "execution_count": null,
      "outputs": []
    },
    {
      "cell_type": "code",
      "source": [
        "data['adjusted_salary'] = data.apply(adjust_salary, axis=1)"
      ],
      "metadata": {
        "id": "X93aTV4wAsov"
      },
      "execution_count": null,
      "outputs": []
    },
    {
      "cell_type": "code",
      "source": [
        "data"
      ],
      "metadata": {
        "id": "oYDANBgRBBGw",
        "colab": {
          "base_uri": "https://localhost:8080/",
          "height": 731
        },
        "outputId": "f5ba801a-a516-4338-d205-6400db3b03e7"
      },
      "execution_count": null,
      "outputs": [
        {
          "output_type": "execute_result",
          "data": {
            "text/plain": [
              "      work_year        experience_level employment_type  \\\n",
              "0          2023                  Senior              FT   \n",
              "1          2023  Mid/Intermediate level              CT   \n",
              "2          2023  Mid/Intermediate level              CT   \n",
              "3          2023                  Senior              FT   \n",
              "4          2023                  Senior              FT   \n",
              "...         ...                     ...             ...   \n",
              "3750       2020                  Senior              FT   \n",
              "3751       2021  Mid/Intermediate level              FT   \n",
              "3752       2020             Entry Level              FT   \n",
              "3753       2020             Entry Level              CT   \n",
              "3754       2021                  Senior              FT   \n",
              "\n",
              "                     job_title   salary salary_currency  salary_in_usd  \\\n",
              "0     Principal Data Scientist    80000             EUR          85847   \n",
              "1                  ML Engineer    30000             USD          30000   \n",
              "2                  ML Engineer    25500             USD          25500   \n",
              "3               Data Scientist   175000             USD         175000   \n",
              "4               Data Scientist   120000             USD         120000   \n",
              "...                        ...      ...             ...            ...   \n",
              "3750            Data Scientist   412000             USD         412000   \n",
              "3751  Principal Data Scientist   151000             USD         151000   \n",
              "3752            Data Scientist   105000             USD         105000   \n",
              "3753     Business Data Analyst   100000             USD         100000   \n",
              "3754      Data Science Manager  7000000             INR          94665   \n",
              "\n",
              "     employee_residence remote_ratio company_location company_size  \\\n",
              "0                    ES  Full-Remote               ES            L   \n",
              "1                    US  Full-Remote               US            S   \n",
              "2                    US  Full-Remote               US            S   \n",
              "3                    CA  Full-Remote               CA            M   \n",
              "4                    CA  Full-Remote               CA            M   \n",
              "...                 ...          ...              ...          ...   \n",
              "3750                 US  Full-Remote               US            L   \n",
              "3751                 US  Full-Remote               US            L   \n",
              "3752                 US  Full-Remote               US            S   \n",
              "3753                 US  Full-Remote               US            L   \n",
              "3754                 IN  Half-Remote               IN            L   \n",
              "\n",
              "     employee_type      job_category  adjusted_salary  \n",
              "0        Full-time             Other     85847.000000  \n",
              "1       Contractor  Machine Learning     30000.000000  \n",
              "2       Contractor  Machine Learning     25500.000000  \n",
              "3        Full-time    Data Scientist    175000.000000  \n",
              "4        Full-time    Data Scientist    120000.000000  \n",
              "...            ...               ...              ...  \n",
              "3750     Full-time    Data Scientist    465053.312718  \n",
              "3751     Full-time             Other    168373.305000  \n",
              "3752     Full-time    Data Scientist    118520.868532  \n",
              "3753    Contractor  Data Engineering    112877.017650  \n",
              "3754     Full-time        Management    106600.363200  \n",
              "\n",
              "[2584 rows x 14 columns]"
            ],
            "text/html": [
              "\n",
              "\n",
              "  <div id=\"df-5eb04db3-dc3d-44d3-a84b-97f22ebd9b9c\">\n",
              "    <div class=\"colab-df-container\">\n",
              "      <div>\n",
              "<style scoped>\n",
              "    .dataframe tbody tr th:only-of-type {\n",
              "        vertical-align: middle;\n",
              "    }\n",
              "\n",
              "    .dataframe tbody tr th {\n",
              "        vertical-align: top;\n",
              "    }\n",
              "\n",
              "    .dataframe thead th {\n",
              "        text-align: right;\n",
              "    }\n",
              "</style>\n",
              "<table border=\"1\" class=\"dataframe\">\n",
              "  <thead>\n",
              "    <tr style=\"text-align: right;\">\n",
              "      <th></th>\n",
              "      <th>work_year</th>\n",
              "      <th>experience_level</th>\n",
              "      <th>employment_type</th>\n",
              "      <th>job_title</th>\n",
              "      <th>salary</th>\n",
              "      <th>salary_currency</th>\n",
              "      <th>salary_in_usd</th>\n",
              "      <th>employee_residence</th>\n",
              "      <th>remote_ratio</th>\n",
              "      <th>company_location</th>\n",
              "      <th>company_size</th>\n",
              "      <th>employee_type</th>\n",
              "      <th>job_category</th>\n",
              "      <th>adjusted_salary</th>\n",
              "    </tr>\n",
              "  </thead>\n",
              "  <tbody>\n",
              "    <tr>\n",
              "      <th>0</th>\n",
              "      <td>2023</td>\n",
              "      <td>Senior</td>\n",
              "      <td>FT</td>\n",
              "      <td>Principal Data Scientist</td>\n",
              "      <td>80000</td>\n",
              "      <td>EUR</td>\n",
              "      <td>85847</td>\n",
              "      <td>ES</td>\n",
              "      <td>Full-Remote</td>\n",
              "      <td>ES</td>\n",
              "      <td>L</td>\n",
              "      <td>Full-time</td>\n",
              "      <td>Other</td>\n",
              "      <td>85847.000000</td>\n",
              "    </tr>\n",
              "    <tr>\n",
              "      <th>1</th>\n",
              "      <td>2023</td>\n",
              "      <td>Mid/Intermediate level</td>\n",
              "      <td>CT</td>\n",
              "      <td>ML Engineer</td>\n",
              "      <td>30000</td>\n",
              "      <td>USD</td>\n",
              "      <td>30000</td>\n",
              "      <td>US</td>\n",
              "      <td>Full-Remote</td>\n",
              "      <td>US</td>\n",
              "      <td>S</td>\n",
              "      <td>Contractor</td>\n",
              "      <td>Machine Learning</td>\n",
              "      <td>30000.000000</td>\n",
              "    </tr>\n",
              "    <tr>\n",
              "      <th>2</th>\n",
              "      <td>2023</td>\n",
              "      <td>Mid/Intermediate level</td>\n",
              "      <td>CT</td>\n",
              "      <td>ML Engineer</td>\n",
              "      <td>25500</td>\n",
              "      <td>USD</td>\n",
              "      <td>25500</td>\n",
              "      <td>US</td>\n",
              "      <td>Full-Remote</td>\n",
              "      <td>US</td>\n",
              "      <td>S</td>\n",
              "      <td>Contractor</td>\n",
              "      <td>Machine Learning</td>\n",
              "      <td>25500.000000</td>\n",
              "    </tr>\n",
              "    <tr>\n",
              "      <th>3</th>\n",
              "      <td>2023</td>\n",
              "      <td>Senior</td>\n",
              "      <td>FT</td>\n",
              "      <td>Data Scientist</td>\n",
              "      <td>175000</td>\n",
              "      <td>USD</td>\n",
              "      <td>175000</td>\n",
              "      <td>CA</td>\n",
              "      <td>Full-Remote</td>\n",
              "      <td>CA</td>\n",
              "      <td>M</td>\n",
              "      <td>Full-time</td>\n",
              "      <td>Data Scientist</td>\n",
              "      <td>175000.000000</td>\n",
              "    </tr>\n",
              "    <tr>\n",
              "      <th>4</th>\n",
              "      <td>2023</td>\n",
              "      <td>Senior</td>\n",
              "      <td>FT</td>\n",
              "      <td>Data Scientist</td>\n",
              "      <td>120000</td>\n",
              "      <td>USD</td>\n",
              "      <td>120000</td>\n",
              "      <td>CA</td>\n",
              "      <td>Full-Remote</td>\n",
              "      <td>CA</td>\n",
              "      <td>M</td>\n",
              "      <td>Full-time</td>\n",
              "      <td>Data Scientist</td>\n",
              "      <td>120000.000000</td>\n",
              "    </tr>\n",
              "    <tr>\n",
              "      <th>...</th>\n",
              "      <td>...</td>\n",
              "      <td>...</td>\n",
              "      <td>...</td>\n",
              "      <td>...</td>\n",
              "      <td>...</td>\n",
              "      <td>...</td>\n",
              "      <td>...</td>\n",
              "      <td>...</td>\n",
              "      <td>...</td>\n",
              "      <td>...</td>\n",
              "      <td>...</td>\n",
              "      <td>...</td>\n",
              "      <td>...</td>\n",
              "      <td>...</td>\n",
              "    </tr>\n",
              "    <tr>\n",
              "      <th>3750</th>\n",
              "      <td>2020</td>\n",
              "      <td>Senior</td>\n",
              "      <td>FT</td>\n",
              "      <td>Data Scientist</td>\n",
              "      <td>412000</td>\n",
              "      <td>USD</td>\n",
              "      <td>412000</td>\n",
              "      <td>US</td>\n",
              "      <td>Full-Remote</td>\n",
              "      <td>US</td>\n",
              "      <td>L</td>\n",
              "      <td>Full-time</td>\n",
              "      <td>Data Scientist</td>\n",
              "      <td>465053.312718</td>\n",
              "    </tr>\n",
              "    <tr>\n",
              "      <th>3751</th>\n",
              "      <td>2021</td>\n",
              "      <td>Mid/Intermediate level</td>\n",
              "      <td>FT</td>\n",
              "      <td>Principal Data Scientist</td>\n",
              "      <td>151000</td>\n",
              "      <td>USD</td>\n",
              "      <td>151000</td>\n",
              "      <td>US</td>\n",
              "      <td>Full-Remote</td>\n",
              "      <td>US</td>\n",
              "      <td>L</td>\n",
              "      <td>Full-time</td>\n",
              "      <td>Other</td>\n",
              "      <td>168373.305000</td>\n",
              "    </tr>\n",
              "    <tr>\n",
              "      <th>3752</th>\n",
              "      <td>2020</td>\n",
              "      <td>Entry Level</td>\n",
              "      <td>FT</td>\n",
              "      <td>Data Scientist</td>\n",
              "      <td>105000</td>\n",
              "      <td>USD</td>\n",
              "      <td>105000</td>\n",
              "      <td>US</td>\n",
              "      <td>Full-Remote</td>\n",
              "      <td>US</td>\n",
              "      <td>S</td>\n",
              "      <td>Full-time</td>\n",
              "      <td>Data Scientist</td>\n",
              "      <td>118520.868532</td>\n",
              "    </tr>\n",
              "    <tr>\n",
              "      <th>3753</th>\n",
              "      <td>2020</td>\n",
              "      <td>Entry Level</td>\n",
              "      <td>CT</td>\n",
              "      <td>Business Data Analyst</td>\n",
              "      <td>100000</td>\n",
              "      <td>USD</td>\n",
              "      <td>100000</td>\n",
              "      <td>US</td>\n",
              "      <td>Full-Remote</td>\n",
              "      <td>US</td>\n",
              "      <td>L</td>\n",
              "      <td>Contractor</td>\n",
              "      <td>Data Engineering</td>\n",
              "      <td>112877.017650</td>\n",
              "    </tr>\n",
              "    <tr>\n",
              "      <th>3754</th>\n",
              "      <td>2021</td>\n",
              "      <td>Senior</td>\n",
              "      <td>FT</td>\n",
              "      <td>Data Science Manager</td>\n",
              "      <td>7000000</td>\n",
              "      <td>INR</td>\n",
              "      <td>94665</td>\n",
              "      <td>IN</td>\n",
              "      <td>Half-Remote</td>\n",
              "      <td>IN</td>\n",
              "      <td>L</td>\n",
              "      <td>Full-time</td>\n",
              "      <td>Management</td>\n",
              "      <td>106600.363200</td>\n",
              "    </tr>\n",
              "  </tbody>\n",
              "</table>\n",
              "<p>2584 rows × 14 columns</p>\n",
              "</div>\n",
              "      <button class=\"colab-df-convert\" onclick=\"convertToInteractive('df-5eb04db3-dc3d-44d3-a84b-97f22ebd9b9c')\"\n",
              "              title=\"Convert this dataframe to an interactive table.\"\n",
              "              style=\"display:none;\">\n",
              "\n",
              "  <svg xmlns=\"http://www.w3.org/2000/svg\" height=\"24px\"viewBox=\"0 0 24 24\"\n",
              "       width=\"24px\">\n",
              "    <path d=\"M0 0h24v24H0V0z\" fill=\"none\"/>\n",
              "    <path d=\"M18.56 5.44l.94 2.06.94-2.06 2.06-.94-2.06-.94-.94-2.06-.94 2.06-2.06.94zm-11 1L8.5 8.5l.94-2.06 2.06-.94-2.06-.94L8.5 2.5l-.94 2.06-2.06.94zm10 10l.94 2.06.94-2.06 2.06-.94-2.06-.94-.94-2.06-.94 2.06-2.06.94z\"/><path d=\"M17.41 7.96l-1.37-1.37c-.4-.4-.92-.59-1.43-.59-.52 0-1.04.2-1.43.59L10.3 9.45l-7.72 7.72c-.78.78-.78 2.05 0 2.83L4 21.41c.39.39.9.59 1.41.59.51 0 1.02-.2 1.41-.59l7.78-7.78 2.81-2.81c.8-.78.8-2.07 0-2.86zM5.41 20L4 18.59l7.72-7.72 1.47 1.35L5.41 20z\"/>\n",
              "  </svg>\n",
              "      </button>\n",
              "\n",
              "\n",
              "\n",
              "    <div id=\"df-565d6738-8ca7-4480-aa77-b2e27a81c02b\">\n",
              "      <button class=\"colab-df-quickchart\" onclick=\"quickchart('df-565d6738-8ca7-4480-aa77-b2e27a81c02b')\"\n",
              "              title=\"Suggest charts.\"\n",
              "              style=\"display:none;\">\n",
              "\n",
              "<svg xmlns=\"http://www.w3.org/2000/svg\" height=\"24px\"viewBox=\"0 0 24 24\"\n",
              "     width=\"24px\">\n",
              "    <g>\n",
              "        <path d=\"M19 3H5c-1.1 0-2 .9-2 2v14c0 1.1.9 2 2 2h14c1.1 0 2-.9 2-2V5c0-1.1-.9-2-2-2zM9 17H7v-7h2v7zm4 0h-2V7h2v10zm4 0h-2v-4h2v4z\"/>\n",
              "    </g>\n",
              "</svg>\n",
              "      </button>\n",
              "    </div>\n",
              "\n",
              "<style>\n",
              "  .colab-df-quickchart {\n",
              "    background-color: #E8F0FE;\n",
              "    border: none;\n",
              "    border-radius: 50%;\n",
              "    cursor: pointer;\n",
              "    display: none;\n",
              "    fill: #1967D2;\n",
              "    height: 32px;\n",
              "    padding: 0 0 0 0;\n",
              "    width: 32px;\n",
              "  }\n",
              "\n",
              "  .colab-df-quickchart:hover {\n",
              "    background-color: #E2EBFA;\n",
              "    box-shadow: 0px 1px 2px rgba(60, 64, 67, 0.3), 0px 1px 3px 1px rgba(60, 64, 67, 0.15);\n",
              "    fill: #174EA6;\n",
              "  }\n",
              "\n",
              "  [theme=dark] .colab-df-quickchart {\n",
              "    background-color: #3B4455;\n",
              "    fill: #D2E3FC;\n",
              "  }\n",
              "\n",
              "  [theme=dark] .colab-df-quickchart:hover {\n",
              "    background-color: #434B5C;\n",
              "    box-shadow: 0px 1px 3px 1px rgba(0, 0, 0, 0.15);\n",
              "    filter: drop-shadow(0px 1px 2px rgba(0, 0, 0, 0.3));\n",
              "    fill: #FFFFFF;\n",
              "  }\n",
              "</style>\n",
              "\n",
              "    <script>\n",
              "      async function quickchart(key) {\n",
              "        const containerElement = document.querySelector('#' + key);\n",
              "        const charts = await google.colab.kernel.invokeFunction(\n",
              "            'suggestCharts', [key], {});\n",
              "      }\n",
              "    </script>\n",
              "\n",
              "      <script>\n",
              "\n",
              "function displayQuickchartButton(domScope) {\n",
              "  let quickchartButtonEl =\n",
              "    domScope.querySelector('#df-565d6738-8ca7-4480-aa77-b2e27a81c02b button.colab-df-quickchart');\n",
              "  quickchartButtonEl.style.display =\n",
              "    google.colab.kernel.accessAllowed ? 'block' : 'none';\n",
              "}\n",
              "\n",
              "        displayQuickchartButton(document);\n",
              "      </script>\n",
              "      <style>\n",
              "    .colab-df-container {\n",
              "      display:flex;\n",
              "      flex-wrap:wrap;\n",
              "      gap: 12px;\n",
              "    }\n",
              "\n",
              "    .colab-df-convert {\n",
              "      background-color: #E8F0FE;\n",
              "      border: none;\n",
              "      border-radius: 50%;\n",
              "      cursor: pointer;\n",
              "      display: none;\n",
              "      fill: #1967D2;\n",
              "      height: 32px;\n",
              "      padding: 0 0 0 0;\n",
              "      width: 32px;\n",
              "    }\n",
              "\n",
              "    .colab-df-convert:hover {\n",
              "      background-color: #E2EBFA;\n",
              "      box-shadow: 0px 1px 2px rgba(60, 64, 67, 0.3), 0px 1px 3px 1px rgba(60, 64, 67, 0.15);\n",
              "      fill: #174EA6;\n",
              "    }\n",
              "\n",
              "    [theme=dark] .colab-df-convert {\n",
              "      background-color: #3B4455;\n",
              "      fill: #D2E3FC;\n",
              "    }\n",
              "\n",
              "    [theme=dark] .colab-df-convert:hover {\n",
              "      background-color: #434B5C;\n",
              "      box-shadow: 0px 1px 3px 1px rgba(0, 0, 0, 0.15);\n",
              "      filter: drop-shadow(0px 1px 2px rgba(0, 0, 0, 0.3));\n",
              "      fill: #FFFFFF;\n",
              "    }\n",
              "  </style>\n",
              "\n",
              "      <script>\n",
              "        const buttonEl =\n",
              "          document.querySelector('#df-5eb04db3-dc3d-44d3-a84b-97f22ebd9b9c button.colab-df-convert');\n",
              "        buttonEl.style.display =\n",
              "          google.colab.kernel.accessAllowed ? 'block' : 'none';\n",
              "\n",
              "        async function convertToInteractive(key) {\n",
              "          const element = document.querySelector('#df-5eb04db3-dc3d-44d3-a84b-97f22ebd9b9c');\n",
              "          const dataTable =\n",
              "            await google.colab.kernel.invokeFunction('convertToInteractive',\n",
              "                                                     [key], {});\n",
              "          if (!dataTable) return;\n",
              "\n",
              "          const docLinkHtml = 'Like what you see? Visit the ' +\n",
              "            '<a target=\"_blank\" href=https://colab.research.google.com/notebooks/data_table.ipynb>data table notebook</a>'\n",
              "            + ' to learn more about interactive tables.';\n",
              "          element.innerHTML = '';\n",
              "          dataTable['output_type'] = 'display_data';\n",
              "          await google.colab.output.renderOutput(dataTable, element);\n",
              "          const docLink = document.createElement('div');\n",
              "          docLink.innerHTML = docLinkHtml;\n",
              "          element.appendChild(docLink);\n",
              "        }\n",
              "      </script>\n",
              "    </div>\n",
              "  </div>\n"
            ]
          },
          "metadata": {},
          "execution_count": 18
        }
      ]
    },
    {
      "cell_type": "markdown",
      "source": [
        "# 1.7 Job Distribution"
      ],
      "metadata": {
        "id": "zopVDU1K6wPG"
      }
    },
    {
      "cell_type": "code",
      "source": [
        "value_counts = data['job_category'].value_counts(normalize=True) * 100\n",
        "value_counts"
      ],
      "metadata": {
        "colab": {
          "base_uri": "https://localhost:8080/"
        },
        "id": "2zdE5Hsz6zmo",
        "outputId": "b1fe23b0-97d9-460b-b272-af539d44c30d"
      },
      "execution_count": null,
      "outputs": [
        {
          "output_type": "execute_result",
          "data": {
            "text/plain": [
              "Data Engineering     44.156347\n",
              "Data Scientist       24.729102\n",
              "Other                15.402477\n",
              "Machine Learning      9.442724\n",
              "Management            3.637771\n",
              "Data Architecture     2.631579\n",
              "Name: job_category, dtype: float64"
            ]
          },
          "metadata": {},
          "execution_count": 19
        }
      ]
    },
    {
      "cell_type": "code",
      "source": [
        "fig, ax = plt.subplots(figsize=(12,6))\n",
        "\n",
        "ax.barh(value_counts.index, value_counts.values)\n",
        "ax.set_title('Job Category Percentage')\n",
        "ax.set_xlabel('Percentage')\n",
        "ax.set_ylabel('Job Category')\n",
        "\n",
        "plt.show"
      ],
      "metadata": {
        "colab": {
          "base_uri": "https://localhost:8080/",
          "height": 582
        },
        "id": "YZAP0XNv8NkX",
        "outputId": "ed1b5f97-a820-4d23-f977-13ec3b4ffe3f"
      },
      "execution_count": null,
      "outputs": [
        {
          "output_type": "execute_result",
          "data": {
            "text/plain": [
              "<function matplotlib.pyplot.show(close=None, block=None)>"
            ]
          },
          "metadata": {},
          "execution_count": 20
        },
        {
          "output_type": "display_data",
          "data": {
            "text/plain": [
              "<Figure size 1200x600 with 1 Axes>"
            ],
            "image/png": "[encoded data removed]"
          },
          "metadata": {}
        }
      ]
    },
    {
      "cell_type": "markdown",
      "source": [
        "# 1.8 Distribution across different employment types"
      ],
      "metadata": {
        "id": "baj3xnpj1QIY"
      }
    },
    {
      "cell_type": "code",
      "source": [
        "plt.figure(figsize=(10,6))\n",
        "\n",
        "sns.boxplot(data=data, x='employment_type', y='adjusted_salary')\n",
        "\n",
        "plt.show()"
      ],
      "metadata": {
        "colab": {
          "base_uri": "https://localhost:8080/",
          "height": 542
        },
        "id": "8nuFQLg-0x_U",
        "outputId": "9dd568be-8e93-4f82-ca0e-1d16b5fdbd4d"
      },
      "execution_count": null,
      "outputs": [
        {
          "output_type": "display_data",
          "data": {
            "text/plain": [
              "<Figure size 1000x600 with 1 Axes>"
            ],
            "image/png": "[encoded data removed]"
          },
          "metadata": {}
        }
      ]
    },
    {
      "cell_type": "markdown",
      "source": [
        "# 1.9 Distribution of Salary"
      ],
      "metadata": {
        "id": "gKMelMrS1xwA"
      }
    },
    {
      "cell_type": "code",
      "source": [
        "sns.histplot(data['adjusted_salary'])\n",
        "\n",
        "plt.title('Distribution of Adjusted Salary')\n",
        "plt.ylabel('Frequency')\n",
        "plt.xlabel('Adjusted Salary')\n",
        "plt.show()"
      ],
      "metadata": {
        "colab": {
          "base_uri": "https://localhost:8080/",
          "height": 472
        },
        "id": "_Ta8aKD81-HA",
        "outputId": "d9b43fab-56f3-4e0b-a036-b49a57b22e4d"
      },
      "execution_count": null,
      "outputs": [
        {
          "output_type": "display_data",
          "data": {
            "text/plain": [
              "<Figure size 640x480 with 1 Axes>"
            ],
            "image/png": "[encoded data removed]"
          },
          "metadata": {}
        }
      ]
    },
    {
      "cell_type": "markdown",
      "source": [
        "# 1.10 Boxplot and Swarmplot of Adjusted Salary"
      ],
      "metadata": {
        "id": "Hcw6eCIa29IY"
      }
    },
    {
      "cell_type": "code",
      "source": [
        "plt.figure(figsize=(8,6))\n",
        "\n",
        "sns.boxplot(x=data['adjusted_salary'], palette='coolwarm')\n",
        "sns.swarmplot(x=data['adjusted_salary'], color='blue', alpha = 0.4 ,size = 2.5)\n",
        "\n",
        "plt.show()"
      ],
      "metadata": {
        "colab": {
          "base_uri": "https://localhost:8080/",
          "height": 542
        },
        "id": "wkEKJaX03EGK",
        "outputId": "f202da25-f969-4c63-812a-4eefe1b1bed4"
      },
      "execution_count": null,
      "outputs": [
        {
          "output_type": "display_data",
          "data": {
            "text/plain": [
              "<Figure size 800x600 with 1 Axes>"
            ],
            "image/png": "[encoded data removed]"
          },
          "metadata": {}
        }
      ]
    },
    {
      "cell_type": "code",
      "source": [
        "data['adjusted_salary'].describe()"
      ],
      "metadata": {
        "colab": {
          "base_uri": "https://localhost:8080/"
        },
        "id": "O-hHuHmt5hq2",
        "outputId": "d6a6b881-ac11-4330-9138-197a2627e3cd"
      },
      "execution_count": null,
      "outputs": [
        {
          "output_type": "execute_result",
          "data": {
            "text/plain": [
              "count      2584.000000\n",
              "mean     138560.259727\n",
              "std       69092.951905\n",
              "min        5583.616000\n",
              "25%       89460.000000\n",
              "50%      134318.173494\n",
              "75%      181050.000000\n",
              "max      507946.579425\n",
              "Name: adjusted_salary, dtype: float64"
            ]
          },
          "metadata": {},
          "execution_count": 24
        }
      ]
    },
    {
      "cell_type": "markdown",
      "source": [
        "# 2. Answer These Questions"
      ],
      "metadata": {
        "id": "IFjdVZlw6kFm"
      }
    },
    {
      "cell_type": "markdown",
      "source": [
        "* Show the **median** adjusted data scientist salary, for each experience level"
      ],
      "metadata": {
        "id": "4xDdA4S16oHp"
      }
    },
    {
      "cell_type": "code",
      "source": [
        "data_scientist_salaries = data[data['job_category'] == 'Data Scientist']\n",
        "\n",
        "median_salaries_by_experience = data_scientist_salaries.groupby('experience_level')['adjusted_salary'].median()\n",
        "\n",
        "print(median_salaries_by_experience)"
      ],
      "metadata": {
        "colab": {
          "base_uri": "https://localhost:8080/"
        },
        "id": "jiM2ssXGsUPx",
        "outputId": "5183878f-262c-48ce-ff1f-c255f1fe8694"
      },
      "execution_count": null,
      "outputs": [
        {
          "output_type": "stream",
          "name": "stdout",
          "text": [
            "experience_level\n",
            "Entry Level                82715.648\n",
            "Executive level           169335.000\n",
            "Mid/Intermediate level     95850.000\n",
            "Senior                    162722.500\n",
            "Name: adjusted_salary, dtype: float64\n"
          ]
        }
      ]
    },
    {
      "cell_type": "markdown",
      "source": [
        "* Show the number of the records for each company_location, sorted desending"
      ],
      "metadata": {
        "id": "9FNO0mlq6z1g"
      }
    },
    {
      "cell_type": "code",
      "source": [
        "data['company_location'].value_counts().sort_values(ascending=False)"
      ],
      "metadata": {
        "colab": {
          "base_uri": "https://localhost:8080/"
        },
        "id": "ldhH6Kyl6lhK",
        "outputId": "7f6394f7-e308-4172-d009-87dac30129fd"
      },
      "execution_count": null,
      "outputs": [
        {
          "output_type": "execute_result",
          "data": {
            "text/plain": [
              "US    1929\n",
              "GB     155\n",
              "CA      83\n",
              "IN      57\n",
              "DE      55\n",
              "      ... \n",
              "NZ       1\n",
              "CL       1\n",
              "MD       1\n",
              "EG       1\n",
              "MT       1\n",
              "Name: company_location, Length: 72, dtype: int64"
            ]
          },
          "metadata": {},
          "execution_count": 48
        }
      ]
    },
    {
      "cell_type": "markdown",
      "source": [
        "* From this data, show median adjusted salary of employee who works for company located in Indonesia (ID), do you think that value represent the salary in Indonesia? why? why not?"
      ],
      "metadata": {
        "id": "nO9Xl2D37EPX"
      }
    },
    {
      "cell_type": "code",
      "source": [
        "ID_DS = data[(data['company_location'] == 'ID') & (data['job_category'] == 'Data Scientist')]\n",
        "Median = ID_DS['adjusted_salary'].median()\n",
        "Median"
      ],
      "metadata": {
        "colab": {
          "base_uri": "https://localhost:8080/"
        },
        "id": "l09Oul9i7W1t",
        "outputId": "a900ccd7-db40-4fb8-a7fe-b09990746373"
      },
      "execution_count": null,
      "outputs": [
        {
          "output_type": "execute_result",
          "data": {
            "text/plain": [
              "58116.60800000001"
            ]
          },
          "metadata": {},
          "execution_count": 44
        }
      ]
    },
    {
      "cell_type": "code",
      "source": [
        "ID_DS"
      ],
      "metadata": {
        "colab": {
          "base_uri": "https://localhost:8080/",
          "height": 162
        },
        "id": "nO8VGCeM78qe",
        "outputId": "3114a4f7-9b17-40d6-b885-1bc6793b455f"
      },
      "execution_count": null,
      "outputs": [
        {
          "output_type": "execute_result",
          "data": {
            "text/plain": [
              "      work_year        experience_level employment_type       job_title  \\\n",
              "3061       2022  Mid/Intermediate level              FT  Data Scientist   \n",
              "\n",
              "       salary salary_currency  salary_in_usd employee_residence remote_ratio  \\\n",
              "3061  4200000             INR          53416                 IN  Full-Remote   \n",
              "\n",
              "     company_location company_size employee_type    job_category  \\\n",
              "3061               ID            L     Full-time  Data Scientist   \n",
              "\n",
              "      adjusted_salary  \n",
              "3061        58116.608  "
            ],
            "text/html": [
              "\n",
              "\n",
              "  <div id=\"df-a9834a2c-8b1b-48e4-abcb-7f8aab2ee051\">\n",
              "    <div class=\"colab-df-container\">\n",
              "      <div>\n",
              "<style scoped>\n",
              "    .dataframe tbody tr th:only-of-type {\n",
              "        vertical-align: middle;\n",
              "    }\n",
              "\n",
              "    .dataframe tbody tr th {\n",
              "        vertical-align: top;\n",
              "    }\n",
              "\n",
              "    .dataframe thead th {\n",
              "        text-align: right;\n",
              "    }\n",
              "</style>\n",
              "<table border=\"1\" class=\"dataframe\">\n",
              "  <thead>\n",
              "    <tr style=\"text-align: right;\">\n",
              "      <th></th>\n",
              "      <th>work_year</th>\n",
              "      <th>experience_level</th>\n",
              "      <th>employment_type</th>\n",
              "      <th>job_title</th>\n",
              "      <th>salary</th>\n",
              "      <th>salary_currency</th>\n",
              "      <th>salary_in_usd</th>\n",
              "      <th>employee_residence</th>\n",
              "      <th>remote_ratio</th>\n",
              "      <th>company_location</th>\n",
              "      <th>company_size</th>\n",
              "      <th>employee_type</th>\n",
              "      <th>job_category</th>\n",
              "      <th>adjusted_salary</th>\n",
              "    </tr>\n",
              "  </thead>\n",
              "  <tbody>\n",
              "    <tr>\n",
              "      <th>3061</th>\n",
              "      <td>2022</td>\n",
              "      <td>Mid/Intermediate level</td>\n",
              "      <td>FT</td>\n",
              "      <td>Data Scientist</td>\n",
              "      <td>4200000</td>\n",
              "      <td>INR</td>\n",
              "      <td>53416</td>\n",
              "      <td>IN</td>\n",
              "      <td>Full-Remote</td>\n",
              "      <td>ID</td>\n",
              "      <td>L</td>\n",
              "      <td>Full-time</td>\n",
              "      <td>Data Scientist</td>\n",
              "      <td>58116.608</td>\n",
              "    </tr>\n",
              "  </tbody>\n",
              "</table>\n",
              "</div>\n",
              "      <button class=\"colab-df-convert\" onclick=\"convertToInteractive('df-a9834a2c-8b1b-48e4-abcb-7f8aab2ee051')\"\n",
              "              title=\"Convert this dataframe to an interactive table.\"\n",
              "              style=\"display:none;\">\n",
              "\n",
              "  <svg xmlns=\"http://www.w3.org/2000/svg\" height=\"24px\"viewBox=\"0 0 24 24\"\n",
              "       width=\"24px\">\n",
              "    <path d=\"M0 0h24v24H0V0z\" fill=\"none\"/>\n",
              "    <path d=\"M18.56 5.44l.94 2.06.94-2.06 2.06-.94-2.06-.94-.94-2.06-.94 2.06-2.06.94zm-11 1L8.5 8.5l.94-2.06 2.06-.94-2.06-.94L8.5 2.5l-.94 2.06-2.06.94zm10 10l.94 2.06.94-2.06 2.06-.94-2.06-.94-.94-2.06-.94 2.06-2.06.94z\"/><path d=\"M17.41 7.96l-1.37-1.37c-.4-.4-.92-.59-1.43-.59-.52 0-1.04.2-1.43.59L10.3 9.45l-7.72 7.72c-.78.78-.78 2.05 0 2.83L4 21.41c.39.39.9.59 1.41.59.51 0 1.02-.2 1.41-.59l7.78-7.78 2.81-2.81c.8-.78.8-2.07 0-2.86zM5.41 20L4 18.59l7.72-7.72 1.47 1.35L5.41 20z\"/>\n",
              "  </svg>\n",
              "      </button>\n",
              "\n",
              "\n",
              "\n",
              "    <div id=\"df-fa5c09f9-83e5-4ee1-ae25-13f4d35e0fb1\">\n",
              "      <button class=\"colab-df-quickchart\" onclick=\"quickchart('df-fa5c09f9-83e5-4ee1-ae25-13f4d35e0fb1')\"\n",
              "              title=\"Suggest charts.\"\n",
              "              style=\"display:none;\">\n",
              "\n",
              "<svg xmlns=\"http://www.w3.org/2000/svg\" height=\"24px\"viewBox=\"0 0 24 24\"\n",
              "     width=\"24px\">\n",
              "    <g>\n",
              "        <path d=\"M19 3H5c-1.1 0-2 .9-2 2v14c0 1.1.9 2 2 2h14c1.1 0 2-.9 2-2V5c0-1.1-.9-2-2-2zM9 17H7v-7h2v7zm4 0h-2V7h2v10zm4 0h-2v-4h2v4z\"/>\n",
              "    </g>\n",
              "</svg>\n",
              "      </button>\n",
              "    </div>\n",
              "\n",
              "<style>\n",
              "  .colab-df-quickchart {\n",
              "    background-color: #E8F0FE;\n",
              "    border: none;\n",
              "    border-radius: 50%;\n",
              "    cursor: pointer;\n",
              "    display: none;\n",
              "    fill: #1967D2;\n",
              "    height: 32px;\n",
              "    padding: 0 0 0 0;\n",
              "    width: 32px;\n",
              "  }\n",
              "\n",
              "  .colab-df-quickchart:hover {\n",
              "    background-color: #E2EBFA;\n",
              "    box-shadow: 0px 1px 2px rgba(60, 64, 67, 0.3), 0px 1px 3px 1px rgba(60, 64, 67, 0.15);\n",
              "    fill: #174EA6;\n",
              "  }\n",
              "\n",
              "  [theme=dark] .colab-df-quickchart {\n",
              "    background-color: #3B4455;\n",
              "    fill: #D2E3FC;\n",
              "  }\n",
              "\n",
              "  [theme=dark] .colab-df-quickchart:hover {\n",
              "    background-color: #434B5C;\n",
              "    box-shadow: 0px 1px 3px 1px rgba(0, 0, 0, 0.15);\n",
              "    filter: drop-shadow(0px 1px 2px rgba(0, 0, 0, 0.3));\n",
              "    fill: #FFFFFF;\n",
              "  }\n",
              "</style>\n",
              "\n",
              "    <script>\n",
              "      async function quickchart(key) {\n",
              "        const containerElement = document.querySelector('#' + key);\n",
              "        const charts = await google.colab.kernel.invokeFunction(\n",
              "            'suggestCharts', [key], {});\n",
              "      }\n",
              "    </script>\n",
              "\n",
              "      <script>\n",
              "\n",
              "function displayQuickchartButton(domScope) {\n",
              "  let quickchartButtonEl =\n",
              "    domScope.querySelector('#df-fa5c09f9-83e5-4ee1-ae25-13f4d35e0fb1 button.colab-df-quickchart');\n",
              "  quickchartButtonEl.style.display =\n",
              "    google.colab.kernel.accessAllowed ? 'block' : 'none';\n",
              "}\n",
              "\n",
              "        displayQuickchartButton(document);\n",
              "      </script>\n",
              "      <style>\n",
              "    .colab-df-container {\n",
              "      display:flex;\n",
              "      flex-wrap:wrap;\n",
              "      gap: 12px;\n",
              "    }\n",
              "\n",
              "    .colab-df-convert {\n",
              "      background-color: #E8F0FE;\n",
              "      border: none;\n",
              "      border-radius: 50%;\n",
              "      cursor: pointer;\n",
              "      display: none;\n",
              "      fill: #1967D2;\n",
              "      height: 32px;\n",
              "      padding: 0 0 0 0;\n",
              "      width: 32px;\n",
              "    }\n",
              "\n",
              "    .colab-df-convert:hover {\n",
              "      background-color: #E2EBFA;\n",
              "      box-shadow: 0px 1px 2px rgba(60, 64, 67, 0.3), 0px 1px 3px 1px rgba(60, 64, 67, 0.15);\n",
              "      fill: #174EA6;\n",
              "    }\n",
              "\n",
              "    [theme=dark] .colab-df-convert {\n",
              "      background-color: #3B4455;\n",
              "      fill: #D2E3FC;\n",
              "    }\n",
              "\n",
              "    [theme=dark] .colab-df-convert:hover {\n",
              "      background-color: #434B5C;\n",
              "      box-shadow: 0px 1px 3px 1px rgba(0, 0, 0, 0.15);\n",
              "      filter: drop-shadow(0px 1px 2px rgba(0, 0, 0, 0.3));\n",
              "      fill: #FFFFFF;\n",
              "    }\n",
              "  </style>\n",
              "\n",
              "      <script>\n",
              "        const buttonEl =\n",
              "          document.querySelector('#df-a9834a2c-8b1b-48e4-abcb-7f8aab2ee051 button.colab-df-convert');\n",
              "        buttonEl.style.display =\n",
              "          google.colab.kernel.accessAllowed ? 'block' : 'none';\n",
              "\n",
              "        async function convertToInteractive(key) {\n",
              "          const element = document.querySelector('#df-a9834a2c-8b1b-48e4-abcb-7f8aab2ee051');\n",
              "          const dataTable =\n",
              "            await google.colab.kernel.invokeFunction('convertToInteractive',\n",
              "                                                     [key], {});\n",
              "          if (!dataTable) return;\n",
              "\n",
              "          const docLinkHtml = 'Like what you see? Visit the ' +\n",
              "            '<a target=\"_blank\" href=https://colab.research.google.com/notebooks/data_table.ipynb>data table notebook</a>'\n",
              "            + ' to learn more about interactive tables.';\n",
              "          element.innerHTML = '';\n",
              "          dataTable['output_type'] = 'display_data';\n",
              "          await google.colab.output.renderOutput(dataTable, element);\n",
              "          const docLink = document.createElement('div');\n",
              "          docLink.innerHTML = docLinkHtml;\n",
              "          element.appendChild(docLink);\n",
              "        }\n",
              "      </script>\n",
              "    </div>\n",
              "  </div>\n"
            ]
          },
          "metadata": {},
          "execution_count": 46
        }
      ]
    },
    {
      "cell_type": "markdown",
      "source": [
        "Based on the obtained median value, it does **not represent** the salary of a Data Scientist in Indonesia because the result is not statistically valid. The median value is derived from only one data point, which is insufficient to draw any meaningful conclusions about the entire population of Data Scientist salaries in Indonesia. For an accurate representation, a more substantial and diverse dataset would be needed to account for the various factors that contribute to salary differences in Indonesia."
      ],
      "metadata": {
        "id": "Ep17NIvx8LXW"
      }
    }
  ]
}